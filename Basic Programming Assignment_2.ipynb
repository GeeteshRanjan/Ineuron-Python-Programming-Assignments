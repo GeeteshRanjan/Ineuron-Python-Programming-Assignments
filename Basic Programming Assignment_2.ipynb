{
 "cells": [
  {
   "cell_type": "code",
   "execution_count": 3,
   "id": "96f4eddc",
   "metadata": {},
   "outputs": [
    {
     "name": "stdout",
     "output_type": "stream",
     "text": [
      "Enter kilometer: 123\n",
      "76.42851\n"
     ]
    }
   ],
   "source": [
    "#Q1\n",
    "km = int(input(\"Enter distance in kilometer: \"))\n",
    "miles = km*0.62137\n",
    "print(\"Distance in miles =\", miles)"
   ]
  },
  {
   "cell_type": "code",
   "execution_count": 7,
   "id": "0ec6867c",
   "metadata": {},
   "outputs": [
    {
     "name": "stdout",
     "output_type": "stream",
     "text": [
      "Enter degree in celcius: 34\n",
      "Temperature in Fahrenheit = 93.2°F\n"
     ]
    }
   ],
   "source": [
    "#Q2\n",
    "c = int(input(\"Enter degree in celcius: \"))\n",
    "f = (c*9/5)+32)\n",
    "print(\"Temperature in Fahrenheit = {}°F\".format(f))"
   ]
  },
  {
   "cell_type": "code",
   "execution_count": 18,
   "id": "9618b3a0",
   "metadata": {},
   "outputs": [
    {
     "name": "stdout",
     "output_type": "stream",
     "text": [
      "Enter the Year2021\n",
      "Enter the Month12\n",
      "   December 2021\n",
      "Mo Tu We Th Fr Sa Su\n",
      "       1  2  3  4  5\n",
      " 6  7  8  9 10 11 12\n",
      "13 14 15 16 17 18 19\n",
      "20 21 22 23 24 25 26\n",
      "27 28 29 30 31\n",
      "\n"
     ]
    }
   ],
   "source": [
    "#Q3\n",
    "import calendar\n",
    "\n",
    "year = int(input(\"Enter the Year\"))\n",
    "month = int(input(\"Enter the Month\"))\n",
    "\n",
    "calendar = calendar.month(year, month) \n",
    "print(calendar)"
   ]
  },
  {
   "cell_type": "code",
   "execution_count": 32,
   "id": "cd9b16c4",
   "metadata": {},
   "outputs": [
    {
     "name": "stdout",
     "output_type": "stream",
     "text": [
      "a = 4\n",
      "b = -4\n",
      "c = -4\n",
      "REAL ROOTS\n",
      "1.618033988749895\n",
      "-0.6180339887498949\n"
     ]
    }
   ],
   "source": [
    "#Q4\n",
    "from math import sqrt\n",
    "a = float(input(\"a = \"))\n",
    "b = float(input(\"b = \"))\n",
    "c = float(input(\"c = \"))\n",
    "\n",
    "d = b*b - 4*a*c\n",
    "if d > 0:\n",
    "    print(\"REAL ROOTS\")\n",
    "    print((-b + sqrt(d))/ (2*a))\n",
    "    print((-b - sqrt(d))/ (2*a)) \n",
    "              \n",
    "elif d == 0:\n",
    "    print(\"One root\")\n",
    "    print(root1 = -b / (2*a))              \n",
    "                   \n",
    "else:\n",
    "    print(\"No Root\")              \n",
    "                \n",
    "                \n",
    "                \n",
    "                 "
   ]
  },
  {
   "cell_type": "code",
   "execution_count": 34,
   "id": "4150d100",
   "metadata": {},
   "outputs": [
    {
     "name": "stdout",
     "output_type": "stream",
     "text": [
      "a = 2\n",
      "b = 3\n",
      "New value of a =  3\n",
      "New value of b =  2\n"
     ]
    }
   ],
   "source": [
    "#Q5\n",
    "a = int(input(\"a = \"))\n",
    "b = int(input(\"b = \"))\n",
    "\n",
    "a, b = b, a\n",
    "print(\"New value of a = \",a)\n",
    "print(\"New value of b = \",b)"
   ]
  }
 ],
 "metadata": {
  "kernelspec": {
   "display_name": "Python 3",
   "language": "python",
   "name": "python3"
  },
  "language_info": {
   "codemirror_mode": {
    "name": "ipython",
    "version": 3
   },
   "file_extension": ".py",
   "mimetype": "text/x-python",
   "name": "python",
   "nbconvert_exporter": "python",
   "pygments_lexer": "ipython3",
   "version": "3.8.8"
  }
 },
 "nbformat": 4,
 "nbformat_minor": 5
}
