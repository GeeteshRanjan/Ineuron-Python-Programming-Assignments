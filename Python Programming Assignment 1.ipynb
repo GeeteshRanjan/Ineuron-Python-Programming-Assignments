{
 "cells": [
  {
   "cell_type": "markdown",
   "id": "77808d96",
   "metadata": {},
   "source": [
    "PROGRAMMING_ASSIGNMENT 1"
   ]
  },
  {
   "cell_type": "code",
   "execution_count": null,
   "id": "7febf47f",
   "metadata": {},
   "outputs": [],
   "source": [
    "#Q1\n",
    "print(\"Hello Python\")"
   ]
  },
  {
   "cell_type": "code",
   "execution_count": 3,
   "id": "4dbf41fe",
   "metadata": {},
   "outputs": [
    {
     "name": "stdout",
     "output_type": "stream",
     "text": [
      "Enter first number: 2\n",
      "Enter second number: 3\n",
      "5\n",
      "0.6666666666666666\n"
     ]
    }
   ],
   "source": [
    "#Q2\n",
    "a = int(input(\"Enter first number: \"))\n",
    "b = int(input(\"Enter second number: \"))\n",
    "c = a + b\n",
    "d = a/b\n",
    "print(c)\n",
    "print(d)"
   ]
  },
  {
   "cell_type": "code",
   "execution_count": 8,
   "id": "26b93376",
   "metadata": {},
   "outputs": [
    {
     "name": "stdout",
     "output_type": "stream",
     "text": [
      "Enter height of triangle4\n",
      "Enter base of triangle5\n",
      "10.0\n"
     ]
    }
   ],
   "source": [
    "#Q3\n",
    "h = int(input(\"Enter height of triangle: \"))\n",
    "b = int(input(\"Enter base of triangle: \"))\n",
    "area = 1/2*(b*h)\n",
    "print(area)"
   ]
  },
  {
   "cell_type": "code",
   "execution_count": 14,
   "id": "00070599",
   "metadata": {},
   "outputs": [
    {
     "name": "stdout",
     "output_type": "stream",
     "text": [
      "Enter value of a: 4\n",
      "Enter value of b: 5\n",
      "New value of a=  5\n",
      "New value of b=  4\n"
     ]
    }
   ],
   "source": [
    "#Q4\n",
    "a = int(input(\"Enter initial value of a: \"))\n",
    "b = int(input(\"Enter initial value of b: \"))\n",
    "temp = a \n",
    "a = b\n",
    "b = temp\n",
    "print(\"New value of a= \", a)\n",
    "print(\"New value of b= \", b )"
   ]
  },
  {
   "cell_type": "code",
   "execution_count": 6,
   "id": "4fd248e7",
   "metadata": {},
   "outputs": [
    {
     "name": "stdout",
     "output_type": "stream",
     "text": [
      "33\n"
     ]
    }
   ],
   "source": [
    "#Q5\n",
    "import random\n",
    "number = random.randint(1,100)\n",
    "print(number)\n"
   ]
  }
 ],
 "metadata": {
  "kernelspec": {
   "display_name": "Python 3",
   "language": "python",
   "name": "python3"
  },
  "language_info": {
   "codemirror_mode": {
    "name": "ipython",
    "version": 3
   },
   "file_extension": ".py",
   "mimetype": "text/x-python",
   "name": "python",
   "nbconvert_exporter": "python",
   "pygments_lexer": "ipython3",
   "version": "3.8.8"
  }
 },
 "nbformat": 4,
 "nbformat_minor": 5
}
